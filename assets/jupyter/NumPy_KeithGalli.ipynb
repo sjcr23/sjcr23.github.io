{
  "cells": [
    {
      "attachments": {},
      "cell_type": "markdown",
      "metadata": {
        "id": "05OS6D7aYe3W"
      },
      "source": [
        "## 1. Importar Bibliotecas\n",
        "---"
      ]
    },
    {
      "cell_type": "code",
      "execution_count": 1,
      "metadata": {
        "id": "eDJqFec8Ybl5",
        "vscode": {
          "languageId": "python"
        }
      },
      "outputs": [],
      "source": [
        "import numpy as np\n",
        "from matplotlib import pyplot as plt"
      ]
    },
    {
      "cell_type": "markdown",
      "metadata": {
        "id": "IwQ3fravqS_C"
      },
      "source": [
        "## 2. Arrays y sus atributos\n",
        "---"
      ]
    },
    {
      "cell_type": "code",
      "execution_count": 2,
      "metadata": {
        "colab": {
          "base_uri": "https://localhost:8080/"
        },
        "id": "5derjrcUYeCc",
        "outputId": "86f17200-b9fc-438d-cbd6-cd6063be7cd0",
        "vscode": {
          "languageId": "python"
        }
      },
      "outputs": [
        {
          "name": "stdout",
          "output_type": "stream",
          "text": [
            "Array a: [1 2 3]\n",
            "Array b: [[9. 8. 7.]\n",
            " [6. 5. 4.]]\n"
          ]
        }
      ],
      "source": [
        "a = np.array([1, 2, 3], dtype='int32')\n",
        "b = np.array(\n",
        "    [\n",
        "        [9.0, 8.0, 7.0],\n",
        "        [6.0, 5.0, 4.0]\n",
        "    ]\n",
        ")\n",
        "\n",
        "print(\"Array a:\", a)\n",
        "print(\"Array b:\", b)"
      ]
    },
    {
      "cell_type": "code",
      "execution_count": 3,
      "metadata": {
        "colab": {
          "base_uri": "https://localhost:8080/"
        },
        "id": "pbok1cisrG6l",
        "outputId": "22dd523b-cf73-4b00-b31e-9d93d1926324",
        "vscode": {
          "languageId": "python"
        }
      },
      "outputs": [
        {
          "data": {
            "text/plain": [
              "(1, 2)"
            ]
          },
          "execution_count": 3,
          "metadata": {},
          "output_type": "execute_result"
        }
      ],
      "source": [
        "# Dimenciones\n",
        "a.ndim, b.ndim"
      ]
    },
    {
      "cell_type": "code",
      "execution_count": 4,
      "metadata": {
        "colab": {
          "base_uri": "https://localhost:8080/"
        },
        "id": "UwJJXFAlrWap",
        "outputId": "eb09feff-a459-42e0-fd9c-a769e40e118c",
        "vscode": {
          "languageId": "python"
        }
      },
      "outputs": [
        {
          "data": {
            "text/plain": [
              "((3,), (2, 3))"
            ]
          },
          "execution_count": 4,
          "metadata": {},
          "output_type": "execute_result"
        }
      ],
      "source": [
        "# Forma\n",
        "a.shape, b.shape"
      ]
    },
    {
      "cell_type": "code",
      "execution_count": 5,
      "metadata": {
        "colab": {
          "base_uri": "https://localhost:8080/"
        },
        "id": "_kN0lVvTrnHI",
        "outputId": "9da0f0f0-5f8e-421f-a28d-1aa48cc0482f",
        "vscode": {
          "languageId": "python"
        }
      },
      "outputs": [
        {
          "data": {
            "text/plain": [
              "(dtype('int32'), dtype('float64'))"
            ]
          },
          "execution_count": 5,
          "metadata": {},
          "output_type": "execute_result"
        }
      ],
      "source": [
        "# Tipo\n",
        "a.dtype, b.dtype"
      ]
    },
    {
      "cell_type": "code",
      "execution_count": 6,
      "metadata": {
        "colab": {
          "base_uri": "https://localhost:8080/"
        },
        "id": "XPA-k8JGr8ul",
        "outputId": "2c90e77d-6744-47d8-e2c5-b637f1c9ccf6",
        "vscode": {
          "languageId": "python"
        }
      },
      "outputs": [
        {
          "data": {
            "text/plain": [
              "(12, 48)"
            ]
          },
          "execution_count": 6,
          "metadata": {},
          "output_type": "execute_result"
        }
      ],
      "source": [
        "'''\n",
        "int   - 32bits:  4 bytes\n",
        "float - 32bits:  8 bytes\n",
        "'''\n",
        "\n",
        "# Espacio en memeoria utilizado\n",
        "a.nbytes, b.nbytes"
      ]
    },
    {
      "cell_type": "code",
      "execution_count": 7,
      "metadata": {
        "colab": {
          "base_uri": "https://localhost:8080/"
        },
        "id": "7U_rYO4jrslh",
        "outputId": "587bd018-45ea-44cc-907a-1c46ac9aeab4",
        "vscode": {
          "languageId": "python"
        }
      },
      "outputs": [
        {
          "data": {
            "text/plain": [
              "(3, 6)"
            ]
          },
          "execution_count": 7,
          "metadata": {},
          "output_type": "execute_result"
        }
      ],
      "source": [
        "# Tamaño (Cantidad de elementos o magnitud)\n",
        "a.size, b.size"
      ]
    },
    {
      "cell_type": "markdown",
      "metadata": {
        "id": "P8Ncmrbsv3Na"
      },
      "source": [
        "## 3. Acceso y Modificación de elementos específicos, filas, columnas, etc...\n",
        "---"
      ]
    },
    {
      "cell_type": "code",
      "execution_count": 8,
      "metadata": {
        "colab": {
          "base_uri": "https://localhost:8080/"
        },
        "id": "0AcdYS7ywDwN",
        "outputId": "d9c20657-0a1f-4e61-c226-a58b9f6c82b2",
        "vscode": {
          "languageId": "python"
        }
      },
      "outputs": [
        {
          "name": "stdout",
          "output_type": "stream",
          "text": [
            "[[ 1  2  3  4  5  6  7]\n",
            " [ 8  9 10 11 12 13 14]]\n"
          ]
        }
      ],
      "source": [
        "a = np.array(\n",
        "    [\n",
        "        [1, 2,  3,  4,  5,  6,  7],\n",
        "        [8, 9, 10, 11, 12, 13, 14]\n",
        "    ]\n",
        ")\n",
        "print(a)"
      ]
    },
    {
      "cell_type": "code",
      "execution_count": 9,
      "metadata": {
        "colab": {
          "base_uri": "https://localhost:8080/"
        },
        "id": "yQbZkoBSwJUI",
        "outputId": "fa4eb13f-b269-45b8-a0ee-1b99c2e0e9a3",
        "vscode": {
          "languageId": "python"
        }
      },
      "outputs": [
        {
          "data": {
            "text/plain": [
              "13"
            ]
          },
          "execution_count": 9,
          "metadata": {},
          "output_type": "execute_result"
        }
      ],
      "source": [
        "# Obtener un elemento específico [fila, columna]\n",
        "fila = 1\n",
        "columna = 5\n",
        "a[fila, columna]"
      ]
    },
    {
      "cell_type": "code",
      "execution_count": 10,
      "metadata": {
        "colab": {
          "base_uri": "https://localhost:8080/"
        },
        "id": "JBBnrSCowaAQ",
        "outputId": "20bfee6b-e782-47a1-e645-696dbde58f1b",
        "vscode": {
          "languageId": "python"
        }
      },
      "outputs": [
        {
          "data": {
            "text/plain": [
              "array([1, 2, 3, 4, 5, 6, 7])"
            ]
          },
          "execution_count": 10,
          "metadata": {},
          "output_type": "execute_result"
        }
      ],
      "source": [
        "# Obtener una fila en específico\n",
        "a[0,  :]"
      ]
    },
    {
      "cell_type": "code",
      "execution_count": 11,
      "metadata": {
        "colab": {
          "base_uri": "https://localhost:8080/"
        },
        "id": "g5Cl1MuRwjTM",
        "outputId": "3b784b0b-ae97-4234-cfec-dd91aca0bfdf",
        "vscode": {
          "languageId": "python"
        }
      },
      "outputs": [
        {
          "data": {
            "text/plain": [
              "array([1, 8])"
            ]
          },
          "execution_count": 11,
          "metadata": {},
          "output_type": "execute_result"
        }
      ],
      "source": [
        "# Obtener una columna en específico\n",
        "a[:, 0]"
      ]
    },
    {
      "cell_type": "code",
      "execution_count": 12,
      "metadata": {
        "id": "XG5M8t8KsbSk",
        "vscode": {
          "languageId": "python"
        }
      },
      "outputs": [],
      "source": [
        "# Modificar datos\n",
        "a[0,0] = 5"
      ]
    },
    {
      "cell_type": "markdown",
      "metadata": {
        "id": "KHX-Ky8uGzBC"
      },
      "source": [
        "## 4. Diferentes tipos de Arrays.\n",
        "---"
      ]
    },
    {
      "cell_type": "code",
      "execution_count": 13,
      "metadata": {
        "colab": {
          "base_uri": "https://localhost:8080/"
        },
        "id": "xGEOOqRDG2rR",
        "outputId": "e06d9fbb-bcd9-4932-8b0a-62e6faafc400",
        "vscode": {
          "languageId": "python"
        }
      },
      "outputs": [
        {
          "data": {
            "text/plain": [
              "array([[0., 0., 0.],\n",
              "       [0., 0., 0.]])"
            ]
          },
          "execution_count": 13,
          "metadata": {},
          "output_type": "execute_result"
        }
      ],
      "source": [
        "# Matriz de Ceros\n",
        "shape = (2,3)\n",
        "np.zeros(shape)"
      ]
    },
    {
      "cell_type": "code",
      "execution_count": 14,
      "metadata": {
        "colab": {
          "base_uri": "https://localhost:8080/"
        },
        "id": "mSB21ONdG_A_",
        "outputId": "8e0a7ea3-3a11-41a4-aba2-87091f7af660",
        "vscode": {
          "languageId": "python"
        }
      },
      "outputs": [
        {
          "data": {
            "text/plain": [
              "array([[1., 1., 1.],\n",
              "       [1., 1., 1.]])"
            ]
          },
          "execution_count": 14,
          "metadata": {},
          "output_type": "execute_result"
        }
      ],
      "source": [
        "# Matriz de Unos\n",
        "np.ones(shape)"
      ]
    },
    {
      "cell_type": "code",
      "execution_count": 15,
      "metadata": {
        "colab": {
          "base_uri": "https://localhost:8080/"
        },
        "id": "U9f-jsgLHFZe",
        "outputId": "8c9afc07-f03b-4003-ae2b-26a8580834b8",
        "vscode": {
          "languageId": "python"
        }
      },
      "outputs": [
        {
          "data": {
            "text/plain": [
              "array([[23, 23, 23],\n",
              "       [23, 23, 23]])"
            ]
          },
          "execution_count": 15,
          "metadata": {},
          "output_type": "execute_result"
        }
      ],
      "source": [
        "# Martiz de cualquier otro número\n",
        "np.full(shape, 23)"
      ]
    },
    {
      "cell_type": "code",
      "execution_count": 16,
      "metadata": {
        "colab": {
          "base_uri": "https://localhost:8080/"
        },
        "id": "EzNvZSIsHbrc",
        "outputId": "fc0ca511-f3bf-4761-e2b9-8248a3f39f2f",
        "vscode": {
          "languageId": "python"
        }
      },
      "outputs": [
        {
          "name": "stdout",
          "output_type": "stream",
          "text": [
            "[[1 1 1]\n",
            " [2 2 2]\n",
            " [3 3 3]] \n",
            "\n",
            "[[3 3 3]\n",
            " [3 3 3]\n",
            " [3 3 3]]\n"
          ]
        }
      ],
      "source": [
        "M = np.array(\n",
        "    [\n",
        "        [1, 1, 1],\n",
        "        [2, 2, 2],\n",
        "        [3, 3, 3]\n",
        "    ]\n",
        ")\n",
        "\n",
        "print(M, \"\\n\")\n",
        "\n",
        "# Martiz de cualquier otro número(full_like)\n",
        "z = np.full_like(M, 3)\n",
        "print(z)"
      ]
    },
    {
      "cell_type": "code",
      "execution_count": 17,
      "metadata": {
        "colab": {
          "base_uri": "https://localhost:8080/"
        },
        "id": "lLXSmp4qIC2B",
        "outputId": "208eb38e-9408-4b4a-cd2b-611f2ae81bd2",
        "vscode": {
          "languageId": "python"
        }
      },
      "outputs": [
        {
          "data": {
            "text/plain": [
              "array([[0.41859385, 0.66263738],\n",
              "       [0.60055776, 0.95039483],\n",
              "       [0.91873151, 0.75536744],\n",
              "       [0.91384079, 0.6365794 ]])"
            ]
          },
          "execution_count": 17,
          "metadata": {},
          "output_type": "execute_result"
        }
      ],
      "source": [
        "# Números decimales aleatorios [0, 1]\n",
        "np.random.rand(4, 2)"
      ]
    },
    {
      "cell_type": "code",
      "execution_count": 18,
      "metadata": {
        "colab": {
          "base_uri": "https://localhost:8080/"
        },
        "id": "_ENSzZqcIMoy",
        "outputId": "49e7451c-560a-4ded-b691-2e3e1d9f9c6d",
        "vscode": {
          "languageId": "python"
        }
      },
      "outputs": [
        {
          "data": {
            "text/plain": [
              "array([[2, 5, 3],\n",
              "       [1, 4, 4],\n",
              "       [8, 1, 6]])"
            ]
          },
          "execution_count": 18,
          "metadata": {},
          "output_type": "execute_result"
        }
      ],
      "source": [
        "# Números enteros aleatorios [min, max]\n",
        "min, max = 0, 9\n",
        "r = np.random.randint(min, max, size=(3, 3))\n",
        "r"
      ]
    },
    {
      "cell_type": "code",
      "execution_count": 19,
      "metadata": {
        "colab": {
          "base_uri": "https://localhost:8080/"
        },
        "id": "b7fTrSGNIsvA",
        "outputId": "04cdb325-1fce-4260-a2c2-5fccf28bc217",
        "vscode": {
          "languageId": "python"
        }
      },
      "outputs": [
        {
          "data": {
            "text/plain": [
              "array([[1., 0., 0., 0., 0.],\n",
              "       [0., 1., 0., 0., 0.],\n",
              "       [0., 0., 1., 0., 0.],\n",
              "       [0., 0., 0., 1., 0.],\n",
              "       [0., 0., 0., 0., 1.]])"
            ]
          },
          "execution_count": 19,
          "metadata": {},
          "output_type": "execute_result"
        }
      ],
      "source": [
        "# Matriz Identidad\n",
        "np.identity(5)"
      ]
    },
    {
      "cell_type": "code",
      "execution_count": 20,
      "metadata": {
        "colab": {
          "base_uri": "https://localhost:8080/"
        },
        "id": "jhKHxqOTI470",
        "outputId": "29ffd4d7-0799-4405-8aca-b08cc201b9ea",
        "vscode": {
          "languageId": "python"
        }
      },
      "outputs": [
        {
          "name": "stdout",
          "output_type": "stream",
          "text": [
            "[[1 2 3]\n",
            " [1 2 3]\n",
            " [1 2 3]]\n"
          ]
        }
      ],
      "source": [
        "# Repetir un array\n",
        "arr = np.array([[1, 2, 3]])\n",
        "\n",
        "r1 = np.repeat(arr, 3, axis=0)\n",
        "print(r1)"
      ]
    },
    {
      "cell_type": "code",
      "execution_count": 21,
      "metadata": {
        "colab": {
          "base_uri": "https://localhost:8080/"
        },
        "id": "n7iH57q8JYGk",
        "outputId": "751cae14-de6a-4d33-ffda-1cedf537363d",
        "vscode": {
          "languageId": "python"
        }
      },
      "outputs": [
        {
          "name": "stdout",
          "output_type": "stream",
          "text": [
            "A: [1 2 3]\n",
            "B: [100   2   3]\n"
          ]
        }
      ],
      "source": [
        "# Cuidado al copiar Arrays\n",
        "a = np.array([1,2,3])\n",
        "b = a.copy()\n",
        "\n",
        "b[0] = 100\n",
        "\n",
        "print(\"A:\", a)\n",
        "print(\"B:\", b)"
      ]
    },
    {
      "cell_type": "markdown",
      "metadata": {
        "id": "FEvSOqQBNC6Z"
      },
      "source": [
        "## 5. Operaciones Matemáticas\n",
        "---"
      ]
    },
    {
      "cell_type": "markdown",
      "metadata": {
        "id": "RDZMQEBdTWYp"
      },
      "source": [
        "### Vectores: con escalares"
      ]
    },
    {
      "cell_type": "code",
      "execution_count": 22,
      "metadata": {
        "colab": {
          "base_uri": "https://localhost:8080/"
        },
        "id": "hrvuVaCtNIRa",
        "outputId": "54172612-2070-40a9-c65b-9b588b7d5582",
        "vscode": {
          "languageId": "python"
        }
      },
      "outputs": [
        {
          "data": {
            "text/plain": [
              "array([1, 2, 3, 4])"
            ]
          },
          "execution_count": 22,
          "metadata": {},
          "output_type": "execute_result"
        }
      ],
      "source": [
        "a = np.array([1, 2, 3, 4])\n",
        "a"
      ]
    },
    {
      "cell_type": "code",
      "execution_count": 23,
      "metadata": {
        "colab": {
          "base_uri": "https://localhost:8080/"
        },
        "id": "JyMFgQNIN6wt",
        "outputId": "83bb4d22-06f6-4998-88f7-69d945704f5a",
        "vscode": {
          "languageId": "python"
        }
      },
      "outputs": [
        {
          "data": {
            "text/plain": [
              "array([6, 7, 8, 9])"
            ]
          },
          "execution_count": 23,
          "metadata": {},
          "output_type": "execute_result"
        }
      ],
      "source": [
        "# Suma\n",
        "a + 5"
      ]
    },
    {
      "cell_type": "code",
      "execution_count": 24,
      "metadata": {
        "colab": {
          "base_uri": "https://localhost:8080/"
        },
        "id": "BYD4_8yJOUb_",
        "outputId": "5ea52a88-6d5e-4470-e852-2c48a110735d",
        "vscode": {
          "languageId": "python"
        }
      },
      "outputs": [
        {
          "data": {
            "text/plain": [
              "array([0, 1, 2, 3])"
            ]
          },
          "execution_count": 24,
          "metadata": {},
          "output_type": "execute_result"
        }
      ],
      "source": [
        "# Resta\n",
        "a - 1"
      ]
    },
    {
      "cell_type": "code",
      "execution_count": 25,
      "metadata": {
        "colab": {
          "base_uri": "https://localhost:8080/"
        },
        "id": "n7umm-BVOXur",
        "outputId": "08918fd0-87ed-47e1-df77-e48b0e87dcff",
        "vscode": {
          "languageId": "python"
        }
      },
      "outputs": [
        {
          "data": {
            "text/plain": [
              "array([ 8, 16, 24, 32])"
            ]
          },
          "execution_count": 25,
          "metadata": {},
          "output_type": "execute_result"
        }
      ],
      "source": [
        "# Producto\n",
        "a * 8"
      ]
    },
    {
      "cell_type": "code",
      "execution_count": 26,
      "metadata": {
        "colab": {
          "base_uri": "https://localhost:8080/"
        },
        "id": "fTpyxy2wOab_",
        "outputId": "8b7d5874-99d4-4841-f1d3-64890b932c4a",
        "vscode": {
          "languageId": "python"
        }
      },
      "outputs": [
        {
          "data": {
            "text/plain": [
              "array([0.5, 1. , 1.5, 2. ])"
            ]
          },
          "execution_count": 26,
          "metadata": {},
          "output_type": "execute_result"
        }
      ],
      "source": [
        "# División\n",
        "a / 2"
      ]
    },
    {
      "cell_type": "code",
      "execution_count": 27,
      "metadata": {
        "colab": {
          "base_uri": "https://localhost:8080/"
        },
        "id": "aeaiVm_iTmQm",
        "outputId": "49e4fde6-9d4f-495a-8885-6c153c61d15f",
        "vscode": {
          "languageId": "python"
        }
      },
      "outputs": [
        {
          "data": {
            "text/plain": [
              "array([ 1,  8, 27, 64])"
            ]
          },
          "execution_count": 27,
          "metadata": {},
          "output_type": "execute_result"
        }
      ],
      "source": [
        "# Potencia\n",
        "a ** 3"
      ]
    },
    {
      "cell_type": "code",
      "execution_count": 28,
      "metadata": {
        "colab": {
          "base_uri": "https://localhost:8080/"
        },
        "id": "q6kryivyTu-r",
        "outputId": "557e4e56-9e10-42bb-ad31-1d2135f70420",
        "vscode": {
          "languageId": "python"
        }
      },
      "outputs": [
        {
          "data": {
            "text/plain": [
              "array([1.        , 1.41421356, 1.73205081, 2.        ])"
            ]
          },
          "execution_count": 28,
          "metadata": {},
          "output_type": "execute_result"
        }
      ],
      "source": [
        "# Raíz cuadrada\n",
        "np.sqrt(a)"
      ]
    },
    {
      "cell_type": "markdown",
      "metadata": {
        "id": "WuCuNyE2ThDl"
      },
      "source": [
        "### Vectores: con otros vectores"
      ]
    },
    {
      "cell_type": "code",
      "execution_count": 29,
      "metadata": {
        "colab": {
          "base_uri": "https://localhost:8080/"
        },
        "id": "E99F5TX8aWfc",
        "outputId": "b106d7f7-fd92-46b3-fdb2-637299f75c47",
        "vscode": {
          "languageId": "python"
        }
      },
      "outputs": [
        {
          "name": "stdout",
          "output_type": "stream",
          "text": [
            "v1: [2 3]\n",
            "v2: [4 1]\n"
          ]
        }
      ],
      "source": [
        "# Vectores\n",
        "v1 = np.array([2, 3])\n",
        "v2 = np.array([4, 1])\n",
        "\n",
        "print(\"v1:\", v1)\n",
        "print(\"v2:\", v2)"
      ]
    },
    {
      "cell_type": "code",
      "execution_count": 30,
      "metadata": {
        "colab": {
          "base_uri": "https://localhost:8080/"
        },
        "id": "oC1o7mdos49i",
        "outputId": "9a7a597c-371d-47fa-c24f-387fea3aa95c",
        "vscode": {
          "languageId": "python"
        }
      },
      "outputs": [
        {
          "name": "stdout",
          "output_type": "stream",
          "text": [
            "v3: [6 4]\n"
          ]
        }
      ],
      "source": [
        "# Suma\n",
        "v3 = v1 + v2\n",
        "print(\"v3:\", v3)"
      ]
    },
    {
      "cell_type": "code",
      "execution_count": 31,
      "metadata": {
        "colab": {
          "base_uri": "https://localhost:8080/"
        },
        "id": "2iOZopqktT-x",
        "outputId": "65c16fba-76d2-48ae-cccc-a76dbca4f76b",
        "vscode": {
          "languageId": "python"
        }
      },
      "outputs": [
        {
          "name": "stdout",
          "output_type": "stream",
          "text": [
            "v3: [-2  2]\n"
          ]
        }
      ],
      "source": [
        "# Resta\n",
        "v3 = v1 - v2\n",
        "print(\"v3:\", v3)"
      ]
    },
    {
      "cell_type": "code",
      "execution_count": 32,
      "metadata": {
        "colab": {
          "base_uri": "https://localhost:8080/"
        },
        "id": "X5OdSuxYtUQz",
        "outputId": "e6da1a7f-4984-424c-af2e-88b58c8d9afa",
        "vscode": {
          "languageId": "python"
        }
      },
      "outputs": [
        {
          "name": "stdout",
          "output_type": "stream",
          "text": [
            "v3: [8 3]\n"
          ]
        }
      ],
      "source": [
        "# Multiplicación\n",
        "v3 = v1 * v2\n",
        "print(\"v3:\", v3)"
      ]
    },
    {
      "cell_type": "code",
      "execution_count": 33,
      "metadata": {
        "colab": {
          "base_uri": "https://localhost:8080/"
        },
        "id": "Rm0UOtgHtUXY",
        "outputId": "ece75e2d-5401-4fd8-f5cd-b352e6d0b01b",
        "vscode": {
          "languageId": "python"
        }
      },
      "outputs": [
        {
          "name": "stdout",
          "output_type": "stream",
          "text": [
            "v3: [0.5 3. ]\n"
          ]
        }
      ],
      "source": [
        "# División\n",
        "v3 = v1 / v2\n",
        "print(\"v3:\", v3)"
      ]
    },
    {
      "cell_type": "code",
      "execution_count": 34,
      "metadata": {
        "colab": {
          "base_uri": "https://localhost:8080/"
        },
        "id": "cjLDXiTeOgUL",
        "outputId": "20bbf2fb-7f70-4699-a13b-1f7fdd28afcc",
        "vscode": {
          "languageId": "python"
        }
      },
      "outputs": [
        {
          "name": "stdout",
          "output_type": "stream",
          "text": [
            "v4: [ 6 10 23]\n",
            "v5: [ -6 -10 -23] \n",
            "\n",
            "v4+v5: [0 0 0]\n"
          ]
        }
      ],
      "source": [
        "# Declarar Opuestos\n",
        "v4 = np.array([6, 10, 23])\n",
        "v5 = -v4\n",
        "\n",
        "print(\"v4:\", v4)\n",
        "print(\"v5:\", v5, \"\\n\")\n",
        "print(\"v4+v5:\", v4+v5)"
      ]
    },
    {
      "cell_type": "markdown",
      "metadata": {
        "id": "T9cIwEQpu-Tt"
      },
      "source": [
        "### Matrices: con ecalares"
      ]
    },
    {
      "cell_type": "code",
      "execution_count": 35,
      "metadata": {
        "colab": {
          "base_uri": "https://localhost:8080/"
        },
        "id": "uin18c0VvYBx",
        "outputId": "1eaead29-89ab-4e25-d207-3ad5a28a8229",
        "vscode": {
          "languageId": "python"
        }
      },
      "outputs": [
        {
          "data": {
            "text/plain": [
              "array([[1, 2],\n",
              "       [3, 4]])"
            ]
          },
          "execution_count": 35,
          "metadata": {},
          "output_type": "execute_result"
        }
      ],
      "source": [
        "# Matriz\n",
        "A = np.array([\n",
        "    [1, 2],\n",
        "    [3, 4]\n",
        "])\n",
        "\n",
        "A"
      ]
    },
    {
      "cell_type": "code",
      "execution_count": 36,
      "metadata": {
        "colab": {
          "base_uri": "https://localhost:8080/"
        },
        "id": "e9iu5bkX41sL",
        "outputId": "000ddb8a-04db-47d0-a10f-b577dcbfa9af",
        "vscode": {
          "languageId": "python"
        }
      },
      "outputs": [
        {
          "data": {
            "text/plain": [
              "array([[3, 4],\n",
              "       [5, 6]])"
            ]
          },
          "execution_count": 36,
          "metadata": {},
          "output_type": "execute_result"
        }
      ],
      "source": [
        "# Suma\n",
        "A + 2"
      ]
    },
    {
      "cell_type": "code",
      "execution_count": 37,
      "metadata": {
        "colab": {
          "base_uri": "https://localhost:8080/"
        },
        "id": "SndnMMNUvkRj",
        "outputId": "5d24ce4b-31f8-491f-d8d2-89a83cbb6dbb",
        "vscode": {
          "languageId": "python"
        }
      },
      "outputs": [
        {
          "data": {
            "text/plain": [
              "array([[-1,  0],\n",
              "       [ 1,  2]])"
            ]
          },
          "execution_count": 37,
          "metadata": {},
          "output_type": "execute_result"
        }
      ],
      "source": [
        "# Resta\n",
        "A - 2"
      ]
    },
    {
      "cell_type": "code",
      "execution_count": 38,
      "metadata": {
        "colab": {
          "base_uri": "https://localhost:8080/"
        },
        "id": "Ia3eheZ-vkqj",
        "outputId": "e5b162e5-e4f8-4d7a-c7a5-bf7283b8cf57",
        "vscode": {
          "languageId": "python"
        }
      },
      "outputs": [
        {
          "data": {
            "text/plain": [
              "array([[2, 4],\n",
              "       [6, 8]])"
            ]
          },
          "execution_count": 38,
          "metadata": {},
          "output_type": "execute_result"
        }
      ],
      "source": [
        "# Multiplicación\n",
        "A * 2"
      ]
    },
    {
      "cell_type": "code",
      "execution_count": 39,
      "metadata": {
        "colab": {
          "base_uri": "https://localhost:8080/"
        },
        "id": "p5QBGwoXvl7r",
        "outputId": "3827c95e-50ba-4a5c-e6b8-fe7656f591ba",
        "vscode": {
          "languageId": "python"
        }
      },
      "outputs": [
        {
          "data": {
            "text/plain": [
              "array([[0.5, 1. ],\n",
              "       [1.5, 2. ]])"
            ]
          },
          "execution_count": 39,
          "metadata": {},
          "output_type": "execute_result"
        }
      ],
      "source": [
        "# División\n",
        "A / 2"
      ]
    },
    {
      "cell_type": "markdown",
      "metadata": {
        "id": "5lh1SpbMvJPq"
      },
      "source": [
        "### Matrices: con vectores"
      ]
    },
    {
      "cell_type": "code",
      "execution_count": 40,
      "metadata": {
        "colab": {
          "base_uri": "https://localhost:8080/"
        },
        "id": "6On0-KGHv_jG",
        "outputId": "088abef3-0251-4c88-92b8-57ba3141442f",
        "vscode": {
          "languageId": "python"
        }
      },
      "outputs": [
        {
          "name": "stdout",
          "output_type": "stream",
          "text": [
            "A: [[1 2]\n",
            " [3 4]] \n",
            "\n",
            "a: [5 6]\n"
          ]
        }
      ],
      "source": [
        "# Matriz\n",
        "A = np.array([\n",
        "    [1, 2],\n",
        "    [3, 4]\n",
        "])\n",
        "\n",
        "a = np.array(\n",
        "    [5, 6]\n",
        ")\n",
        "\n",
        "print(\"A:\", A, \"\\n\")\n",
        "print(\"a:\", a)"
      ]
    },
    {
      "cell_type": "code",
      "execution_count": 41,
      "metadata": {
        "colab": {
          "base_uri": "https://localhost:8080/"
        },
        "id": "LDEjrB-kwyiL",
        "outputId": "1af87e7c-099b-420f-d059-754db25a08b6",
        "vscode": {
          "languageId": "python"
        }
      },
      "outputs": [
        {
          "data": {
            "text/plain": [
              "array([[ 6,  8],\n",
              "       [ 8, 10]])"
            ]
          },
          "execution_count": 41,
          "metadata": {},
          "output_type": "execute_result"
        }
      ],
      "source": [
        "# Suma\n",
        "A + a"
      ]
    },
    {
      "cell_type": "code",
      "execution_count": 42,
      "metadata": {
        "colab": {
          "base_uri": "https://localhost:8080/"
        },
        "id": "wW6mbWlFwyiQ",
        "outputId": "c5fc2169-55d9-48b0-ba6a-45b0c3de39bf",
        "vscode": {
          "languageId": "python"
        }
      },
      "outputs": [
        {
          "data": {
            "text/plain": [
              "array([[-4, -4],\n",
              "       [-2, -2]])"
            ]
          },
          "execution_count": 42,
          "metadata": {},
          "output_type": "execute_result"
        }
      ],
      "source": [
        "# Resta\n",
        "A - a"
      ]
    },
    {
      "cell_type": "code",
      "execution_count": 43,
      "metadata": {
        "colab": {
          "base_uri": "https://localhost:8080/"
        },
        "id": "ZlG7Y1ufwyiQ",
        "outputId": "305561d8-62d7-4882-eba3-7f46132f144c",
        "vscode": {
          "languageId": "python"
        }
      },
      "outputs": [
        {
          "data": {
            "text/plain": [
              "array([[ 5, 12],\n",
              "       [15, 24]])"
            ]
          },
          "execution_count": 43,
          "metadata": {},
          "output_type": "execute_result"
        }
      ],
      "source": [
        "# Multiplicación\n",
        "A * a"
      ]
    },
    {
      "cell_type": "code",
      "execution_count": 44,
      "metadata": {
        "colab": {
          "base_uri": "https://localhost:8080/"
        },
        "id": "W6WKfWqjwyiR",
        "outputId": "60a4b996-3110-499e-f0d0-4539b3f3a863",
        "vscode": {
          "languageId": "python"
        }
      },
      "outputs": [
        {
          "data": {
            "text/plain": [
              "array([[0.2       , 0.33333333],\n",
              "       [0.6       , 0.66666667]])"
            ]
          },
          "execution_count": 44,
          "metadata": {},
          "output_type": "execute_result"
        }
      ],
      "source": [
        "# División\n",
        "A / a"
      ]
    },
    {
      "cell_type": "markdown",
      "metadata": {
        "id": "FqWvyk0373Fy"
      },
      "source": [
        "### Matrices: con matrices"
      ]
    },
    {
      "cell_type": "code",
      "execution_count": 45,
      "metadata": {
        "colab": {
          "base_uri": "https://localhost:8080/"
        },
        "id": "ZhqgydYW8L-d",
        "outputId": "52512b73-c7a0-42a1-dd83-ccba77cfd46e",
        "vscode": {
          "languageId": "python"
        }
      },
      "outputs": [
        {
          "name": "stdout",
          "output_type": "stream",
          "text": [
            "A:\n",
            " [[1 2]\n",
            " [3 4]] \n",
            "\n",
            "B:\n",
            " [[5 6]\n",
            " [7 8]] \n",
            "\n",
            "C:\n",
            " [5 6]\n"
          ]
        }
      ],
      "source": [
        "# Matrices\n",
        "A = np.array([\n",
        "    [1, 2],\n",
        "    [3, 4]\n",
        "])\n",
        "\n",
        "B = np.array([\n",
        "    [5, 6],\n",
        "    [7, 8]\n",
        "])\n",
        "\n",
        "C = np.array(\n",
        "    [5, 6]\n",
        ")\n",
        "\n",
        "print(\"A:\\n\", A, \"\\n\")\n",
        "print(\"B:\\n\", B, \"\\n\")\n",
        "print(\"C:\\n\", C)"
      ]
    },
    {
      "cell_type": "code",
      "execution_count": 46,
      "metadata": {
        "colab": {
          "base_uri": "https://localhost:8080/"
        },
        "id": "0ynLYExH8L-j",
        "outputId": "9baca868-6878-4f75-e467-b4e134769904",
        "vscode": {
          "languageId": "python"
        }
      },
      "outputs": [
        {
          "data": {
            "text/plain": [
              "array([[ 6,  8],\n",
              "       [10, 12]])"
            ]
          },
          "execution_count": 46,
          "metadata": {},
          "output_type": "execute_result"
        }
      ],
      "source": [
        "# Suma\n",
        "A + B"
      ]
    },
    {
      "cell_type": "code",
      "execution_count": 47,
      "metadata": {
        "colab": {
          "base_uri": "https://localhost:8080/"
        },
        "id": "wiuQLl8R8_oq",
        "outputId": "2a47adb7-7235-4dc9-9114-e87d8480c0b7",
        "vscode": {
          "languageId": "python"
        }
      },
      "outputs": [
        {
          "data": {
            "text/plain": [
              "array([[-4, -4],\n",
              "       [-4, -4]])"
            ]
          },
          "execution_count": 47,
          "metadata": {},
          "output_type": "execute_result"
        }
      ],
      "source": [
        "# Resta\n",
        "A - B"
      ]
    },
    {
      "cell_type": "code",
      "execution_count": 48,
      "metadata": {
        "colab": {
          "base_uri": "https://localhost:8080/"
        },
        "id": "yGX1QYGf8_oq",
        "outputId": "8f548a58-db37-48da-d5e2-30a09e441a8f",
        "vscode": {
          "languageId": "python"
        }
      },
      "outputs": [
        {
          "data": {
            "text/plain": [
              "array([[ 5, 12],\n",
              "       [21, 32]])"
            ]
          },
          "execution_count": 48,
          "metadata": {},
          "output_type": "execute_result"
        }
      ],
      "source": [
        "# Multiplicación element wise\n",
        "A * B"
      ]
    },
    {
      "cell_type": "code",
      "execution_count": 49,
      "metadata": {
        "colab": {
          "base_uri": "https://localhost:8080/"
        },
        "id": "ys7AISHc9K_N",
        "outputId": "fa79a9e2-202d-4d0e-e07b-38e0b567ed79",
        "vscode": {
          "languageId": "python"
        }
      },
      "outputs": [
        {
          "data": {
            "text/plain": [
              "array([[19, 22],\n",
              "       [43, 50]])"
            ]
          },
          "execution_count": 49,
          "metadata": {},
          "output_type": "execute_result"
        }
      ],
      "source": [
        "# Multiplicación matricial\n",
        "np.matmul(A, B)"
      ]
    },
    {
      "cell_type": "markdown",
      "metadata": {
        "id": "WgeB0GD1K8i1"
      },
      "source": [
        "## 6. Graficando Vectores\n",
        "---"
      ]
    },
    {
      "cell_type": "code",
      "execution_count": 50,
      "metadata": {
        "id": "xI7Wi5b5FIN6",
        "vscode": {
          "languageId": "python"
        }
      },
      "outputs": [],
      "source": [
        "def get_canvas(limits):\n",
        "    x_min, x_max = limits[0], limits[1]\n",
        "    y_min, y_max = limits[2], limits[3]\n",
        "\n",
        "    plt.xlabel('Eje X')\n",
        "    plt.ylabel('Eje Y')\n",
        "    plt.grid(color='gray', linestyle='--', linewidth=0.4)\n",
        "    plt.xlim([x_min, x_max])\n",
        "    plt.ylim([y_min, y_max])\n",
        "\n",
        "\n",
        "def graph_vector(origin, vector, color=\"black\"):\n",
        "    '''\n",
        "    Dibuja un vector desde un origen hacia una\n",
        "    '''\n",
        "    plt.quiver(*origin, *vector, color=color, angles='xy', scale_units='xy', scale=1)"
      ]
    },
    {
      "cell_type": "code",
      "execution_count": 51,
      "metadata": {
        "id": "nTQF0sOHJz9a",
        "vscode": {
          "languageId": "python"
        }
      },
      "outputs": [],
      "source": [
        "origin = np.zeros(2)\n",
        "a = np.array([0, 2])"
      ]
    },
    {
      "cell_type": "markdown",
      "metadata": {
        "id": "98J4rKhCUze_"
      },
      "source": [
        "### Vectores: con escalares."
      ]
    },
    {
      "cell_type": "code",
      "execution_count": 52,
      "metadata": {
        "colab": {
          "base_uri": "https://localhost:8080/",
          "height": 510
        },
        "id": "WoHNWfqoODNF",
        "outputId": "0ad8b2d5-25e9-483e-e0c6-7309a9d8f3dd",
        "vscode": {
          "languageId": "python"
        }
      },
      "outputs": [
        {
          "name": "stdout",
          "output_type": "stream",
          "text": [
            "a  : [0 2]\n",
            "a+2: [2 4] \n",
            "\n"
          ]
        },
        {
          "data": {
            "image/png": "[encoded data removed]",
            "text/plain": [
              "<Figure size 640x480 with 1 Axes>"
            ]
          },
          "metadata": {},
          "output_type": "display_data"
        }
      ],
      "source": [
        "# SUMA\n",
        "\n",
        "# Fijamos límites, etiquetas y títulos\n",
        "get_canvas([-2, 3, 0, 5])\n",
        "\n",
        "b = a + 2\n",
        "\n",
        "graph_vector(origin, a, \"r\")\n",
        "graph_vector(origin, b, \"b\")\n",
        "\n",
        "print(\"a  :\", a)\n",
        "print(\"a+2:\", b, \"\\n\")\n",
        "\n",
        "plt.show()"
      ]
    },
    {
      "cell_type": "code",
      "execution_count": 53,
      "metadata": {
        "colab": {
          "base_uri": "https://localhost:8080/",
          "height": 510
        },
        "id": "4GqMeEIdVGL1",
        "outputId": "a7cbd868-ccbd-4f4d-dc4d-b1e69b2ad4a8",
        "vscode": {
          "languageId": "python"
        }
      },
      "outputs": [
        {
          "name": "stdout",
          "output_type": "stream",
          "text": [
            "a  : [0 2]\n",
            "a-2: [-2  0] \n",
            "\n"
          ]
        },
        {
          "data": {
            "image/png": "[encoded data removed]",
            "text/plain": [
              "<Figure size 640x480 with 1 Axes>"
            ]
          },
          "metadata": {},
          "output_type": "display_data"
        }
      ],
      "source": [
        "# RESTA\n",
        "\n",
        "# Fijamos límites, etiquetas y títulos\n",
        "get_canvas([-2, 3, 0, 5])\n",
        "\n",
        "b = a - 2\n",
        "\n",
        "graph_vector(origin, a, \"r\")\n",
        "graph_vector(origin, b, \"b\")\n",
        "\n",
        "print(\"a  :\", a)\n",
        "print(\"a-2:\", b, \"\\n\")\n",
        "\n",
        "plt.show()"
      ]
    },
    {
      "cell_type": "code",
      "execution_count": 54,
      "metadata": {
        "colab": {
          "base_uri": "https://localhost:8080/",
          "height": 510
        },
        "id": "su3gE-sIVTZv",
        "outputId": "3671599f-370a-4b7c-d366-002882905dfb",
        "vscode": {
          "languageId": "python"
        }
      },
      "outputs": [
        {
          "name": "stdout",
          "output_type": "stream",
          "text": [
            "a  : [0 2]\n",
            "a*2: [0 4] \n",
            "\n"
          ]
        },
        {
          "data": {
            "image/png": "[encoded data removed]",
            "text/plain": [
              "<Figure size 640x480 with 1 Axes>"
            ]
          },
          "metadata": {},
          "output_type": "display_data"
        }
      ],
      "source": [
        "# PRODUCTO\n",
        "\n",
        "# Fijamos límites, etiquetas y títulos\n",
        "get_canvas([-2, 3, 0, 5])\n",
        "\n",
        "b = a * 2\n",
        "\n",
        "graph_vector(origin, a, \"r\")\n",
        "graph_vector(origin, b, \"b\")\n",
        "\n",
        "print(\"a  :\", a)\n",
        "print(\"a*2:\", b, \"\\n\")\n",
        "\n",
        "plt.show()"
      ]
    },
    {
      "cell_type": "code",
      "execution_count": 55,
      "metadata": {
        "colab": {
          "base_uri": "https://localhost:8080/",
          "height": 510
        },
        "id": "sriWc6v6VbwL",
        "outputId": "dede8766-f576-47c3-9e2d-c5be9a034c7f",
        "vscode": {
          "languageId": "python"
        }
      },
      "outputs": [
        {
          "name": "stdout",
          "output_type": "stream",
          "text": [
            "a  : [0 2]\n",
            "a/2: [0. 1.] \n",
            "\n"
          ]
        },
        {
          "data": {
            "image/png": "[encoded data removed]",
            "text/plain": [
              "<Figure size 640x480 with 1 Axes>"
            ]
          },
          "metadata": {},
          "output_type": "display_data"
        }
      ],
      "source": [
        "# DIVISIÓN\n",
        "\n",
        "# Fijamos límites, etiquetas y títulos\n",
        "get_canvas([-2, 3, 0, 5])\n",
        "\n",
        "b = a / 2\n",
        "\n",
        "graph_vector(origin, a, \"r\")\n",
        "graph_vector(origin, b, \"b\")\n",
        "\n",
        "print(\"a  :\", a)\n",
        "print(\"a/2:\", b, \"\\n\")\n",
        "\n",
        "plt.show()"
      ]
    },
    {
      "cell_type": "code",
      "execution_count": 56,
      "metadata": {
        "colab": {
          "base_uri": "https://localhost:8080/",
          "height": 510
        },
        "id": "7tYmYcCdV6RM",
        "outputId": "7bbb39d9-3963-4db4-a391-3e5141966230",
        "vscode": {
          "languageId": "python"
        }
      },
      "outputs": [
        {
          "name": "stdout",
          "output_type": "stream",
          "text": [
            "a  : [0 2]\n",
            "a**2: [0 4] \n",
            "\n"
          ]
        },
        {
          "data": {
            "image/png": "[encoded data removed]",
            "text/plain": [
              "<Figure size 640x480 with 1 Axes>"
            ]
          },
          "metadata": {},
          "output_type": "display_data"
        }
      ],
      "source": [
        "# POTENCIA\n",
        "\n",
        "# Fijamos límites, etiquetas y títulos\n",
        "get_canvas([-2, 3, 0, 5])\n",
        "\n",
        "b = a ** 2\n",
        "\n",
        "graph_vector(origin, a, \"r\")\n",
        "graph_vector(origin, b, \"b\")\n",
        "\n",
        "print(\"a  :\", a)\n",
        "print(\"a**2:\", b, \"\\n\")\n",
        "\n",
        "plt.show()"
      ]
    },
    {
      "cell_type": "code",
      "execution_count": 57,
      "metadata": {
        "colab": {
          "base_uri": "https://localhost:8080/",
          "height": 510
        },
        "id": "TcSSTPohVre6",
        "outputId": "9bcbc098-dd4e-46c6-aaaa-59852255ab7c",
        "vscode": {
          "languageId": "python"
        }
      },
      "outputs": [
        {
          "name": "stdout",
          "output_type": "stream",
          "text": [
            "a     : [0 2]\n",
            "a**0.5: [0.         1.41421356] \n",
            "\n"
          ]
        },
        {
          "data": {
            "image/png": "[encoded data removed]",
            "text/plain": [
              "<Figure size 640x480 with 1 Axes>"
            ]
          },
          "metadata": {},
          "output_type": "display_data"
        }
      ],
      "source": [
        "# RAIZ CUADRADA\n",
        "\n",
        "# Fijamos límites, etiquetas y títulos\n",
        "get_canvas([-2, 3, 0, 5])\n",
        "\n",
        "b = np.sqrt(a)\n",
        "graph_vector(origin, a, \"r\")\n",
        "graph_vector(origin, b, \"b\")\n",
        "\n",
        "print(\"a     :\", a)\n",
        "print(\"a**0.5:\", b, \"\\n\")\n",
        "\n",
        "plt.show()"
      ]
    },
    {
      "cell_type": "markdown",
      "metadata": {
        "id": "XMYmtguFLA7o"
      },
      "source": [
        "### Vectores: con vectores.\n"
      ]
    },
    {
      "cell_type": "code",
      "execution_count": 58,
      "metadata": {
        "id": "-8BI1QHfeLeG",
        "vscode": {
          "languageId": "python"
        }
      },
      "outputs": [],
      "source": [
        "v1 = np.array([2, 3])\n",
        "v2 = np.array([4, 1])"
      ]
    },
    {
      "cell_type": "code",
      "execution_count": 59,
      "metadata": {
        "colab": {
          "base_uri": "https://localhost:8080/",
          "height": 528
        },
        "id": "j_KQ1xWwLFAe",
        "outputId": "acae491e-1718-4156-eada-698b35ddf9de",
        "vscode": {
          "languageId": "python"
        }
      },
      "outputs": [
        {
          "name": "stdout",
          "output_type": "stream",
          "text": [
            "v1: [2 3]\n",
            "v2: [4 1]\n",
            "v3: [6 4] \n",
            "\n"
          ]
        },
        {
          "data": {
            "image/png": "[encoded data removed]",
            "text/plain": [
              "<Figure size 640x480 with 1 Axes>"
            ]
          },
          "metadata": {},
          "output_type": "display_data"
        }
      ],
      "source": [
        "# Fijamos límites, etiquetas y títulos\n",
        "get_canvas([0, 8, 0, 8])\n",
        "\n",
        "graph_vector(origin, v1, 'r')\n",
        "\n",
        "graph_vector(v1, v2, 'b')\n",
        "# graph_vector(origin, v2, 'b')\n",
        "\n",
        "# Suma\n",
        "v3 = v2+v1\n",
        "\n",
        "graph_vector(origin, v3, 'g')\n",
        "\n",
        "print(\"v1:\", v1)\n",
        "print(\"v2:\", v2)\n",
        "print(\"v3:\", v3, \"\\n\")\n",
        "plt.show()"
      ]
    },
    {
      "cell_type": "code",
      "execution_count": 60,
      "metadata": {
        "colab": {
          "base_uri": "https://localhost:8080/",
          "height": 528
        },
        "id": "LBWYnQw9K8ni",
        "outputId": "72e55145-326b-420c-d152-3e4047b1aa2d",
        "vscode": {
          "languageId": "python"
        }
      },
      "outputs": [
        {
          "name": "stdout",
          "output_type": "stream",
          "text": [
            "v1: [2 3]\n",
            "v2: [4 1]\n",
            "v3: [ 2 -2] \n",
            "\n"
          ]
        },
        {
          "data": {
            "image/png": "[encoded data removed]",
            "text/plain": [
              "<Figure size 640x480 with 1 Axes>"
            ]
          },
          "metadata": {},
          "output_type": "display_data"
        }
      ],
      "source": [
        "# Fijamos límites, etiquetas y títulos\n",
        "get_canvas([0, 8, -2, 8])\n",
        "\n",
        "\n",
        "graph_vector(origin, v1, 'r')\n",
        "\n",
        "# graph_vector(v1, v2, 'b')\n",
        "graph_vector(origin, v2, 'b')\n",
        "\n",
        "# Resta\n",
        "v3 = v2 - v1\n",
        "\n",
        "# graph_vector(origin, v3, 'g')\n",
        "graph_vector(v1, v3, 'g')\n",
        "\n",
        "print(\"v1:\", v1)\n",
        "print(\"v2:\", v2)\n",
        "print(\"v3:\", v3, \"\\n\")\n",
        "plt.show()"
      ]
    }
  ],
  "metadata": {
    "colab": {
      "collapsed_sections": [
        "P8Ncmrbsv3Na",
        "KHX-Ky8uGzBC",
        "RDZMQEBdTWYp",
        "WuCuNyE2ThDl",
        "T9cIwEQpu-Tt",
        "5lh1SpbMvJPq",
        "FqWvyk0373Fy",
        "WgeB0GD1K8i1"
      ],
      "provenance": []
    },
    "kernelspec": {
      "display_name": "Python 3 (ipykernel)",
      "language": "python",
      "name": "python3"
    }
  },
  "nbformat": 4,
  "nbformat_minor": 0
}
