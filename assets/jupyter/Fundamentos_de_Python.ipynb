{
  "cells": [
    {
      "cell_type": "markdown",
      "metadata": {
        "id": "vih-HImYz9St"
      },
      "source": [
        "# Objetos, Tipos y Variables en Python\n",
        "\n",
        "Todo en Python es un **objeto** y cada objeto en Python tiene un **tipo**. Algunos de los tipos básicos son:\n",
        "\n",
        "- **`int`** (enteros: un número entero sin decimales)\n",
        "  - `10`\n",
        "  - `-3`\n",
        "- **`float`** (flotantes: un número real con decimales)\n",
        "  - `7.41`\n",
        "  - `-0.006`\n",
        "- **`str`** (cadenas de texto: una secuencia de caracteres entre comillas simples, dobles o triples)\n",
        "  - `'esta es una cadena entre comillas simples'`\n",
        "  - `\"esta es una cadena entre comillas dobles\"`\n",
        "  - `'''esto es una cadena entre comillas triples utilizando comillas simples'''`\n",
        "  - `\"\"\"esto es una cadena entre comillas triples utilizando comillas dobles\"\"\"`\n",
        "- **`bool`** (booleano; un valor binario que es Verdadero o Falso)\n",
        "  - `True`\n",
        "  - `False`\n",
        "- **`NoneType`** (tipo especial que representa la ausencia de un valor)\n",
        "  - `None`\n",
        "\n",
        "En Python, una **variable** es un nombre que se especifica en el código y que se asigna a un **objeto**, **instancia** de objeto o valor en particular.\n",
        "\n",
        "Al definir variables, podemos referirnos a cosas con nombres que tengan sentido para nosotros. Los nombres de las variables sólo pueden contener letras, guiones bajos (`_`) o números (no espacios, guiones u otros caracteres). Los nombres de las variables deben empezar por una letra o un guión bajo.\n",
        "<hr>\n",
        "\n"
      ]
    },
    {
      "cell_type": "markdown",
      "metadata": {
        "id": "MtAjFHePYjZN"
      },
      "source": [
        "## Ejemplo básico"
      ]
    },
    {
      "cell_type": "code",
      "execution_count": 1,
      "metadata": {
        "colab": {
          "base_uri": "https://localhost:8080/"
        },
        "id": "DlriqR5n7dN8",
        "outputId": "40dd2caa-b99a-4c93-982e-15fd31f222a1"
      },
      "outputs": [
        {
          "name": "stdout",
          "output_type": "stream",
          "text": [
            "Maria Biarreta\n"
          ]
        }
      ],
      "source": [
        "entero = 10\n",
        "nombre = 'Maria '\n",
        "Nombre = \"Biarreta\"\n",
        "string3 = nombre + Nombre\n",
        "\n",
        "print(string3)"
      ]
    },
    {
      "cell_type": "markdown",
      "metadata": {
        "id": "_ioItswUz9S2"
      },
      "source": [
        "# Operadores básicos\n",
        "En Python, existen diferentes tipos de **operadores** (símbolos especiales) que operan sobre diferentes valores. Algunos de los operadores básicos incluyen\n",
        "\n",
        "**Operadores aritméticos**\n",
        "- **`+`** (suma)\n",
        "- **`-`** (resta)\n",
        "- **`*`** (multiplicación)\n",
        "- **`/`** (división)\n",
        "- __`**`__ (exponente)\n",
        "\n",
        "**Operadores de asignación**\n",
        "- **`=`** (asignar un valor)\n",
        "- **`+=`** (suma y reasignación; incremento)\n",
        "- **`-=`** (resta y reasignación; decremento)\n",
        "- **`*=`** (multiplicar y reasignar)\n",
        "\n",
        "**Operadores de comparación** (retornan `Verdadero` o `Falso`)\n",
        "- **`==`** (igual a)\n",
        "- **`!=`** (no igual a)\n",
        "- **`<`** (menor que)\n",
        "- **`<=`** (menor o igual que)\n",
        "- **`>`** (mayor que)\n",
        "- **`>=`** (mayor o igual que)\n",
        "\n",
        "\\\n",
        "Cuando se utilizan varios operadores en una misma expresión, la **precedencia de los operadores** determina qué partes de la expresión se evalúan y en qué orden. Los operadores con mayor precedencia se evalúan primero (como PEMDAS en matemáticas). Los operadores con la misma precedencia se evalúan de izquierda a derecha.\n",
        "\n",
        "\\\n",
        "**Orden de precedencia**\n",
        "- `()` paréntesis, para agrupar\n",
        "- `**` exponente\n",
        "- `*`, `/` multiplicación y división\n",
        "- `+`, `-` suma y resta\n",
        "- `==`, `!=`, `<`, `<=`, `>`, `>=` comparaciones\n",
        "\n",
        "> Véase: https://docs.python.org/3/reference/expressions.html#operator-precedence\n",
        "\n",
        "---\n"
      ]
    },
    {
      "cell_type": "markdown",
      "metadata": {
        "id": "eFWzSifvKlgi"
      },
      "source": [
        "## Operadores aritméticos y de asignación"
      ]
    },
    {
      "cell_type": "code",
      "execution_count": 2,
      "metadata": {
        "colab": {
          "base_uri": "https://localhost:8080/"
        },
        "id": "UFTAFmeJz9S6",
        "outputId": "dd8a331d-bbdb-4a85-e18b-9b17c3d8f3af"
      },
      "outputs": [
        {
          "name": "stdout",
          "output_type": "stream",
          "text": [
            "Variables:\n",
            "a = 10,   b = -32,  c = 7.41,  d = -0.6,  e = 7,  f = 3.\n"
          ]
        }
      ],
      "source": [
        "# Asignar algunos números a distintas variables\n",
        "a = 10\n",
        "b = -32\n",
        "c = 7.41\n",
        "d = -.6\n",
        "e = 7\n",
        "f = 3\n",
        "print(\"Variables:\")\n",
        "print(f'a = {a},   b = {b},  c = {c},  d = {d},  e = {e},  f = {f}.')"
      ]
    },
    {
      "cell_type": "code",
      "execution_count": 3,
      "metadata": {
        "colab": {
          "base_uri": "https://localhost:8080/"
        },
        "id": "FrQ1lCpEGKhs",
        "outputId": "6f853d6c-5907-48a8-ccd7-bfa4db31e1af"
      },
      "outputs": [
        {
          "name": "stdout",
          "output_type": "stream",
          "text": [
            "Operaciones:\n",
            "A = -22,   B = -39.41,  C = -4.446,  D = -0.08571428571428572,  E = 343.\n"
          ]
        }
      ],
      "source": [
        "# Operaciones\n",
        "A = a + b   # 10 + -32\n",
        "B = b - c   # -32 - 7.41\n",
        "C = c * d   # 7.41 * -0.6\n",
        "D = d / e   # -0.6 / 7\n",
        "E = e ** f  # 7 ^ 3\n",
        "\n",
        "print(\"Operaciones:\")\n",
        "print(f'A = {A},   B = {B},  C = {C},  D = {D},  E = {E}.')\n"
      ]
    },
    {
      "cell_type": "code",
      "execution_count": 4,
      "metadata": {
        "colab": {
          "base_uri": "https://localhost:8080/"
        },
        "id": "6Fvuq3JOBjVK",
        "outputId": "8a0b02e2-fde1-46b7-97b5-897994ca152d"
      },
      "outputs": [
        {
          "name": "stdout",
          "output_type": "stream",
          "text": [
            "Valor de a = 10\n",
            "Incremento por suma: 14\n",
            "Decremento por resta: 12\n",
            "Incremento por producto: 60\n",
            "Decremento por dovisión: 6.0\n"
          ]
        }
      ],
      "source": [
        "# Reescritura de variables\n",
        "\n",
        "a = 10\n",
        "print(\"Valor de a =\", a,)\n",
        "\n",
        "a += 4\n",
        "print(\"Incremento por suma:\", a)        # 10 + 4\n",
        "\n",
        "a -= 2\n",
        "print(\"Decremento por resta:\", a)       # 14 - 2\n",
        "\n",
        "a *= 5\n",
        "print(\"Incremento por producto:\", a)    # 12 * 5\n",
        "\n",
        "a /= 10\n",
        "print(\"Decremento por dovisión:\", a)    # 60 / 10\n"
      ]
    },
    {
      "cell_type": "markdown",
      "metadata": {
        "id": "4DW8yQflKskW"
      },
      "source": [
        "---\n",
        "\n",
        "## Operadores de comparación"
      ]
    },
    {
      "cell_type": "code",
      "execution_count": 5,
      "metadata": {
        "colab": {
          "base_uri": "https://localhost:8080/"
        },
        "id": "vC_N61_Rz9TL",
        "outputId": "4a7dfaa0-169e-4606-d4bb-059491e3d2fe"
      },
      "outputs": [
        {
          "name": "stdout",
          "output_type": "stream",
          "text": [
            "16 == 8 + 8 (True)\n"
          ]
        }
      ],
      "source": [
        "# ¿Son estas expresiones iguales?\n",
        "a = 16\n",
        "b = 8\n",
        "c = 8\n",
        "print(f'16 == 8 + 8 ({a == b + c})')"
      ]
    },
    {
      "cell_type": "code",
      "execution_count": 6,
      "metadata": {
        "colab": {
          "base_uri": "https://localhost:8080/"
        },
        "id": "uO899BmYK8-D",
        "outputId": "ef196545-0c9b-466a-91c9-a30f5c2be161"
      },
      "outputs": [
        {
          "name": "stdout",
          "output_type": "stream",
          "text": [
            "2 != 2 (False)\n",
            "2 != 0 (True)\n"
          ]
        }
      ],
      "source": [
        "# ¿Son estas expresiones distintas?\n",
        "a = 2\n",
        "b = 2\n",
        "c = 0\n",
        "print(f'2 != 2 ({a != b})')\n",
        "print(f'2 != 0 ({a != c})')"
      ]
    },
    {
      "cell_type": "code",
      "execution_count": 7,
      "metadata": {
        "colab": {
          "base_uri": "https://localhost:8080/"
        },
        "id": "ypyOtn4Iz9TO",
        "outputId": "f989ff3f-9440-4a33-b289-85e9f9cab00d"
      },
      "outputs": [
        {
          "name": "stdout",
          "output_type": "stream",
          "text": [
            "23 < 32 (True)\n",
            "23 > 32 (False)\n"
          ]
        }
      ],
      "source": [
        "# ¿Cuál expresión es mayor?\n",
        "a = 23\n",
        "b = 32\n",
        "\n",
        "print(f'23 < 32 ({a < b})')\n",
        "print(f'23 > 32 ({a > b})')"
      ]
    },
    {
      "cell_type": "code",
      "execution_count": 8,
      "metadata": {
        "colab": {
          "base_uri": "https://localhost:8080/"
        },
        "id": "I10nPKytz9TP",
        "outputId": "53f82e6a-aade-476a-97af-5c76addb11b6"
      },
      "outputs": [
        {
          "name": "stdout",
          "output_type": "stream",
          "text": [
            "5 > 3 > 1 (True)\n",
            "5 > 3 < 4 == 3 + 1 (True)\n"
          ]
        }
      ],
      "source": [
        "# ¿Son verdaderas estas expresiones?\n",
        "a = 5 > 3 > 1\n",
        "b = 5 > 3 < 4 == 3 + 1\n",
        "\n",
        "print(f'5 > 3 > 1 ({a})')\n",
        "print(f'5 > 3 < 4 == 3 + 1 ({b})')"
      ]
    },
    {
      "cell_type": "markdown",
      "metadata": {
        "id": "YROVdI7YMtRd"
      },
      "source": [
        "---\n",
        "\n",
        "# Asignación y operaciones con cadenas texto"
      ]
    },
    {
      "cell_type": "code",
      "execution_count": 9,
      "metadata": {
        "colab": {
          "base_uri": "https://localhost:8080/"
        },
        "collapsed": true,
        "id": "Y9KUmshcz9TR",
        "outputId": "2314e0e8-cfa5-46d6-d8b3-33fbe5902660"
      },
      "outputs": [
        {
          "data": {
            "text/plain": [
              "('un ejemplo', 'naranjas ')"
            ]
          },
          "execution_count": 9,
          "metadata": {},
          "output_type": "execute_result"
        }
      ],
      "source": [
        "# Asigna algunas cadenas a diferentes variables\n",
        "texto1 = \"un ejemplo\"\n",
        "texto2 = \"naranjas \"\n",
        "\n",
        "texto1, texto2"
      ]
    },
    {
      "cell_type": "code",
      "execution_count": 10,
      "metadata": {
        "colab": {
          "base_uri": "https://localhost:8080/",
          "height": 35
        },
        "id": "u8XtMwQ9z9TT",
        "outputId": "25becab3-1764-4683-cfbc-d48e4e4106b0"
      },
      "outputs": [
        {
          "data": {
            "application/vnd.google.colaboratory.intrinsic+json": {
              "type": "string"
            },
            "text/plain": [
              "'un ejemplo  del operador \"+\".'"
            ]
          },
          "execution_count": 10,
          "metadata": {},
          "output_type": "execute_result"
        }
      ],
      "source": [
        "# Addition\n",
        "texto1 + '  del operador \"+\".'"
      ]
    },
    {
      "cell_type": "code",
      "execution_count": 11,
      "metadata": {
        "colab": {
          "base_uri": "https://localhost:8080/",
          "height": 35
        },
        "id": "1yaawvR8z9TU",
        "outputId": "ff499537-bf58-4381-aca9-50b0295fef55"
      },
      "outputs": [
        {
          "data": {
            "application/vnd.google.colaboratory.intrinsic+json": {
              "type": "string"
            },
            "text/plain": [
              "'un ejemplo'"
            ]
          },
          "execution_count": 11,
          "metadata": {},
          "output_type": "execute_result"
        }
      ],
      "source": [
        "# Observe que la cadena no se ha modificado\n",
        "texto1"
      ]
    },
    {
      "cell_type": "code",
      "execution_count": 12,
      "metadata": {
        "colab": {
          "base_uri": "https://localhost:8080/",
          "height": 35
        },
        "id": "Cnfmb7PFz9TW",
        "outputId": "bdce7338-f870-4b4c-ca81-34c537ce872d"
      },
      "outputs": [
        {
          "data": {
            "application/vnd.google.colaboratory.intrinsic+json": {
              "type": "string"
            },
            "text/plain": [
              "'naranjas naranjas naranjas naranjas '"
            ]
          },
          "execution_count": 12,
          "metadata": {},
          "output_type": "execute_result"
        }
      ],
      "source": [
        "# Multiplicación\n",
        "texto2 * 4"
      ]
    },
    {
      "cell_type": "code",
      "execution_count": 13,
      "metadata": {
        "colab": {
          "base_uri": "https://localhost:8080/",
          "height": 35
        },
        "id": "-ip3-I6Uz9TX",
        "outputId": "be34a904-c526-44ce-94c4-ca6766758e57"
      },
      "outputs": [
        {
          "data": {
            "application/vnd.google.colaboratory.intrinsic+json": {
              "type": "string"
            },
            "text/plain": [
              "'naranjas '"
            ]
          },
          "execution_count": 13,
          "metadata": {},
          "output_type": "execute_result"
        }
      ],
      "source": [
        "# Este texto tampoco cambió\n",
        "texto2"
      ]
    },
    {
      "cell_type": "code",
      "execution_count": 14,
      "metadata": {
        "colab": {
          "base_uri": "https://localhost:8080/"
        },
        "id": "OtSbiOQuz9TY",
        "outputId": "d73c6a1d-56fc-4530-9a1d-3f7b135bda61"
      },
      "outputs": [
        {
          "data": {
            "text/plain": [
              "False"
            ]
          },
          "execution_count": 14,
          "metadata": {},
          "output_type": "execute_result"
        }
      ],
      "source": [
        "# ¿Es verdadera esta expresión?\n",
        "texto1 == texto2"
      ]
    },
    {
      "cell_type": "code",
      "execution_count": 15,
      "metadata": {
        "colab": {
          "base_uri": "https://localhost:8080/"
        },
        "id": "y40j3jTmz9TZ",
        "outputId": "cae2486e-c54b-465c-a7a5-02f7c4336e8d"
      },
      "outputs": [
        {
          "data": {
            "text/plain": [
              "True"
            ]
          },
          "execution_count": 15,
          "metadata": {},
          "output_type": "execute_result"
        }
      ],
      "source": [
        "# ¿Son estas dos expresiones idénticas?\n",
        "texto1 == 'un ejemplo'"
      ]
    },
    {
      "cell_type": "code",
      "execution_count": 16,
      "metadata": {
        "colab": {
          "base_uri": "https://localhost:8080/",
          "height": 35
        },
        "id": "6tDY0OJSz9TZ",
        "outputId": "894f1a80-2de9-4d37-e60b-ae6975bad2b5"
      },
      "outputs": [
        {
          "data": {
            "application/vnd.google.colaboratory.intrinsic+json": {
              "type": "string"
            },
            "text/plain": [
              "'un ejemplo que reasigna la cadena original'"
            ]
          },
          "execution_count": 16,
          "metadata": {},
          "output_type": "execute_result"
        }
      ],
      "source": [
        "# Sumar y reasignar\n",
        "texto1 += ' que reasigna la cadena original'\n",
        "texto1"
      ]
    },
    {
      "cell_type": "code",
      "execution_count": 17,
      "metadata": {
        "colab": {
          "base_uri": "https://localhost:8080/",
          "height": 35
        },
        "id": "lLYJYgH7z9Ta",
        "outputId": "2d78ca66-e21d-4cf9-eb13-3c7584575a20"
      },
      "outputs": [
        {
          "data": {
            "application/vnd.google.colaboratory.intrinsic+json": {
              "type": "string"
            },
            "text/plain": [
              "'naranjas naranjas naranjas '"
            ]
          },
          "execution_count": 17,
          "metadata": {},
          "output_type": "execute_result"
        }
      ],
      "source": [
        "# Multiplicar y reasignar\n",
        "texto2 *= 3\n",
        "texto2"
      ]
    },
    {
      "cell_type": "markdown",
      "metadata": {
        "id": "JSzFDn3Fz9Tb"
      },
      "source": [
        "---\n",
        "\n",
        "# Contenedores básicos\n",
        "\n",
        "> Nota: Los objetos **mutables** pueden ser modificados después de su creación y los **inmutables** no. Los contenedores son objetos que se pueden utilizar para agrupar otros objetos. Los tipos de contenedores básicos son:\n",
        "\n",
        "- **`str`** (cadena: inmutable; indexada por enteros; los elementos se almacenan en el orden en que se añadieron)\n",
        "- **`list`** (lista: mutable; indexada por enteros; los elementos se almacenan en el orden en que se añaden)\n",
        "- `[3, 5, 6, 3, 'perro', 'gato', Falso]`\n",
        "- **`tuple`** (tupla: inmutable; indexada por enteros; los elementos se almacenan en el orden en que se añadieron)\n",
        "- `(3, 5, 6, 3, 'perro', 'gato', Falso)`\n",
        "- **`set`** (set: mutable; no indexado en absoluto; los elementos NO se almacenan en el orden en que se añadieron; sólo puede contener objetos inmutables; NO contiene objetos duplicados)\n",
        "- `{3, 5, 6, 3, 'perro', 'gato', Falso}``.\n",
        "- **`dict`** (diccionario: mutable; los pares clave-valor están indexados por claves inmutables; los elementos NO se almacenan en el orden en que se añadieron)\n",
        "- `{'nombre': 'Jane', 'edad': 23, 'comida_favorita': ['pizza', 'fruta', 'pescado']}`.\n",
        "\n",
        "Al definir listas, tuplas o conjuntos, utilice comas (,) para separar los elementos individuales. Al definir dicts, utilice dos puntos (:) para separar las claves de los valores y comas (,) para separar los pares clave-valor.\n",
        "Las cadenas, listas y tuplas son **tipos de secuencia** que pueden utilizar los operadores `+`, `*`, `+=` y `*=`."
      ]
    },
    {
      "cell_type": "code",
      "execution_count": 18,
      "metadata": {
        "collapsed": true,
        "id": "WSrW5wx_z9Tc"
      },
      "outputs": [],
      "source": [
        "# Asigna algunos contenedores a diferentes variables\n",
        "lista1 = [3, 5, 6, 3, 'perro', 'gato', False]\n",
        "tupla1 = (3, 5, 6, 3, 'perro', 'gato', False)\n",
        "set1 = {3, 5, 6, 3, 'perro', 'gato', False}\n",
        "dict1 = {'nombre': 'Juana', 'edad': 23, 'comida_favorita': ['pizza', 'fruta', 'pescado']}"
      ]
    },
    {
      "cell_type": "code",
      "execution_count": 19,
      "metadata": {
        "colab": {
          "base_uri": "https://localhost:8080/"
        },
        "id": "qx-bzc49z9Tc",
        "outputId": "884966f8-0c06-4098-b4f8-244c799fe585"
      },
      "outputs": [
        {
          "data": {
            "text/plain": [
              "[3, 5, 6, 3, 'perro', 'gato', False]"
            ]
          },
          "execution_count": 19,
          "metadata": {},
          "output_type": "execute_result"
        }
      ],
      "source": [
        "# Los elementos del objeto lista se almacenan en el orden en que se añadieron\n",
        "lista1"
      ]
    },
    {
      "cell_type": "code",
      "execution_count": 20,
      "metadata": {
        "colab": {
          "base_uri": "https://localhost:8080/"
        },
        "id": "PZaXLlqtz9Td",
        "outputId": "8e79763a-7291-463d-f578-6d8ec492ad91"
      },
      "outputs": [
        {
          "data": {
            "text/plain": [
              "(3, 5, 6, 3, 'perro', 'gato', False)"
            ]
          },
          "execution_count": 20,
          "metadata": {},
          "output_type": "execute_result"
        }
      ],
      "source": [
        "# Los elementos del objeto tupla se almacenan en el orden en que se añadieron\n",
        "tupla1"
      ]
    },
    {
      "cell_type": "code",
      "execution_count": 21,
      "metadata": {
        "colab": {
          "base_uri": "https://localhost:8080/"
        },
        "id": "cs9UKSrfz9Td",
        "outputId": "45230df6-c8bc-4564-c763-5099c2eced8e"
      },
      "outputs": [
        {
          "data": {
            "text/plain": [
              "{3, 5, 6, False, 'gato', 'perro'}"
            ]
          },
          "execution_count": 21,
          "metadata": {},
          "output_type": "execute_result"
        }
      ],
      "source": [
        "# Los elementos del objeto set no se almacenan en el orden en que se añadieron\n",
        "# Además, observa que el valor \"3\" sólo aparece una vez en este objeto set\n",
        "set1"
      ]
    },
    {
      "cell_type": "code",
      "execution_count": 22,
      "metadata": {
        "colab": {
          "base_uri": "https://localhost:8080/"
        },
        "id": "veEijwaaz9Te",
        "outputId": "7c446630-9fb5-4081-d5e8-c50c43babea6"
      },
      "outputs": [
        {
          "data": {
            "text/plain": [
              "{'nombre': 'Juana',\n",
              " 'edad': 23,\n",
              " 'comida_favorita': ['pizza', 'fruta', 'pescado']}"
            ]
          },
          "execution_count": 22,
          "metadata": {},
          "output_type": "execute_result"
        }
      ],
      "source": [
        "# Los elementos del objeto dict no se almacenan en el orden en que se añadieron\n",
        "dict1"
      ]
    },
    {
      "cell_type": "code",
      "execution_count": 23,
      "metadata": {
        "colab": {
          "base_uri": "https://localhost:8080/"
        },
        "id": "yPULxYhzz9Tf",
        "outputId": "79140626-7884-408c-9435-fb20b3847804"
      },
      "outputs": [
        {
          "data": {
            "text/plain": [
              "[3, 5, 6, 3, 'perro', 'gato', False, 5, 'uvas']"
            ]
          },
          "execution_count": 23,
          "metadata": {},
          "output_type": "execute_result"
        }
      ],
      "source": [
        "# Añadir y reasignar\n",
        "lista1 += [5, 'uvas']\n",
        "lista1"
      ]
    },
    {
      "cell_type": "code",
      "execution_count": 24,
      "metadata": {
        "colab": {
          "base_uri": "https://localhost:8080/"
        },
        "id": "NOtY-9zUz9Tg",
        "outputId": "12e19085-52ca-4c39-a3c1-add4d0cc267f"
      },
      "outputs": [
        {
          "data": {
            "text/plain": [
              "(3, 5, 6, 3, 'perro', 'gato', False, 5, 'uvas')"
            ]
          },
          "execution_count": 24,
          "metadata": {},
          "output_type": "execute_result"
        }
      ],
      "source": [
        "# Añadir y reasignar\n",
        "tupla1 += (5, 'uvas')\n",
        "tupla1"
      ]
    },
    {
      "cell_type": "code",
      "execution_count": 25,
      "metadata": {
        "colab": {
          "base_uri": "https://localhost:8080/"
        },
        "id": "JwdrjvW5z9Tg",
        "outputId": "e7a252d1-289d-4bfd-de83-a7922fc160b2"
      },
      "outputs": [
        {
          "data": {
            "text/plain": [
              "[1, 2, 3, 4, 1, 2, 3, 4]"
            ]
          },
          "execution_count": 25,
          "metadata": {},
          "output_type": "execute_result"
        }
      ],
      "source": [
        "# Multiplicar\n",
        "[1, 2, 3, 4] * 2"
      ]
    },
    {
      "cell_type": "code",
      "execution_count": 26,
      "metadata": {
        "colab": {
          "base_uri": "https://localhost:8080/"
        },
        "id": "WPZltvN6z9Th",
        "outputId": "fac080f6-7dab-4d6c-9c93-8660dd419edc"
      },
      "outputs": [
        {
          "data": {
            "text/plain": [
              "(1, 2, 3, 4, 1, 2, 3, 4, 1, 2, 3, 4)"
            ]
          },
          "execution_count": 26,
          "metadata": {},
          "output_type": "execute_result"
        }
      ],
      "source": [
        "# Multiplicar\n",
        "(1, 2, 3, 4) * 3"
      ]
    },
    {
      "cell_type": "markdown",
      "metadata": {
        "id": "WTywFVoYz9Th"
      },
      "source": [
        "---\n",
        "\n",
        "## Acceso a datos en contenedores\n",
        "Para cadenas, listas, tuplas y dicts, podemos utilizar **notación de subíndice** (corchetes) para acceder a los datos en un índice.\n",
        "- Las cadenas, listas y tuplas se indexan por enteros, **empezando en 0** para el primer elemento.\n",
        "- Estos tipos de secuencia también permiten acceder a un rango de elementos, lo que se conoce como **slicing**.\n",
        "\n",
        "- Utilizar la indexación negativa para empezar por el final de la secuencia.\n",
        "\n",
        "- Los diccionarios se indexan por sus claves\n",
        "\n",
        "> Nota:  los conjuntos no están indexados, por lo que no podemos utilizar la notación de subíndice para acceder a los elementos de datos."
      ]
    },
    {
      "cell_type": "code",
      "execution_count": 27,
      "metadata": {
        "colab": {
          "base_uri": "https://localhost:8080/"
        },
        "id": "BlOKxQYOz9Ti",
        "outputId": "9af0d8a5-0f17-4b34-bec9-ea381542efe1"
      },
      "outputs": [
        {
          "data": {
            "text/plain": [
              "3"
            ]
          },
          "execution_count": 27,
          "metadata": {},
          "output_type": "execute_result"
        }
      ],
      "source": [
        "# Accede al primer elemento de una secuencia\n",
        "lista1[0]"
      ]
    },
    {
      "cell_type": "code",
      "execution_count": 28,
      "metadata": {
        "colab": {
          "base_uri": "https://localhost:8080/",
          "height": 35
        },
        "id": "N53h95z1z9T9",
        "outputId": "7a827015-d435-4254-f27a-33f36a63f224"
      },
      "outputs": [
        {
          "data": {
            "application/vnd.google.colaboratory.intrinsic+json": {
              "type": "string"
            },
            "text/plain": [
              "'uvas'"
            ]
          },
          "execution_count": 28,
          "metadata": {},
          "output_type": "execute_result"
        }
      ],
      "source": [
        "# Accede al últmo elemento de una secuencia\n",
        "tupla1[-1]"
      ]
    },
    {
      "cell_type": "code",
      "execution_count": 29,
      "metadata": {
        "colab": {
          "base_uri": "https://localhost:8080/",
          "height": 35
        },
        "id": "G_PBidvtz9T-",
        "outputId": "8f4eedc5-f40f-43b1-f2dd-fa1fe95643f3"
      },
      "outputs": [
        {
          "data": {
            "application/vnd.google.colaboratory.intrinsic+json": {
              "type": "string"
            },
            "text/plain": [
              "'Abeced'"
            ]
          },
          "execution_count": 29,
          "metadata": {},
          "output_type": "execute_result"
        }
      ],
      "source": [
        "# Acceder a un rango de elementos en una secuencia\n",
        "texto1 = \"Abecedario\"\n",
        "texto1[0:6]"
      ]
    },
    {
      "cell_type": "code",
      "execution_count": 30,
      "metadata": {
        "colab": {
          "base_uri": "https://localhost:8080/"
        },
        "id": "y5VqjnKNz9T-",
        "outputId": "222803cb-23b3-437d-fbf6-1d99bd95ba7f"
      },
      "outputs": [
        {
          "data": {
            "text/plain": [
              "(3, 5, 6, 3, 'perro', 'gato')"
            ]
          },
          "execution_count": 30,
          "metadata": {},
          "output_type": "execute_result"
        }
      ],
      "source": [
        "# Acceder a un rango de elementos en una secuencia\n",
        "tupla1[:-3]"
      ]
    },
    {
      "cell_type": "code",
      "execution_count": 31,
      "metadata": {
        "colab": {
          "base_uri": "https://localhost:8080/"
        },
        "id": "lFMT5rBqz9T_",
        "outputId": "1d37ccac-4e64-47ae-a2ce-d0725f5bd202"
      },
      "outputs": [
        {
          "data": {
            "text/plain": [
              "['perro', 'gato', False, 5, 'uvas']"
            ]
          },
          "execution_count": 31,
          "metadata": {},
          "output_type": "execute_result"
        }
      ],
      "source": [
        "# Acceder a un rango de elementos en una secuencia\n",
        "lista1[4:]"
      ]
    },
    {
      "cell_type": "code",
      "execution_count": 32,
      "metadata": {
        "colab": {
          "base_uri": "https://localhost:8080/",
          "height": 35
        },
        "id": "--BnrDuyz9T_",
        "outputId": "3104bf55-d2d9-42b4-f7ca-d02175848e58"
      },
      "outputs": [
        {
          "data": {
            "application/vnd.google.colaboratory.intrinsic+json": {
              "type": "string"
            },
            "text/plain": [
              "'Juana'"
            ]
          },
          "execution_count": 32,
          "metadata": {},
          "output_type": "execute_result"
        }
      ],
      "source": [
        "# Acceder a un elemento de un diccionario\n",
        "dict1['nombre']"
      ]
    },
    {
      "cell_type": "code",
      "execution_count": 33,
      "metadata": {
        "colab": {
          "base_uri": "https://localhost:8080/",
          "height": 35
        },
        "id": "Xt_sn02Lz9T_",
        "outputId": "2b421c0f-c50f-4724-d1c3-508f083f4e6f"
      },
      "outputs": [
        {
          "data": {
            "application/vnd.google.colaboratory.intrinsic+json": {
              "type": "string"
            },
            "text/plain": [
              "'pescado'"
            ]
          },
          "execution_count": 33,
          "metadata": {},
          "output_type": "execute_result"
        }
      ],
      "source": [
        "# Acceder a un elemento de una secuencia en un diccionario\n",
        "dict1['comida_favorita'][2]"
      ]
    },
    {
      "cell_type": "markdown",
      "metadata": {
        "id": "yRQcK5x9S8RL"
      },
      "source": [
        "---\n",
        "\n",
        "# Definición de funciones\n",
        "\n",
        "En Python, podemos definir funciones utilizando la palabra clave `def`, seguida del nombre de la función y entre paréntesis los parámetros que recibe la función."
      ]
    },
    {
      "cell_type": "code",
      "execution_count": 34,
      "metadata": {
        "colab": {
          "base_uri": "https://localhost:8080/"
        },
        "id": "-4-f1UHvoBHi",
        "outputId": "fa487b74-836a-4f16-da4f-af20417b214a"
      },
      "outputs": [
        {
          "name": "stdout",
          "output_type": "stream",
          "text": [
            "Resultados:\n",
            "a = 23\n",
            "b = 0.043478260869565216\n",
            "c = -23\n"
          ]
        }
      ],
      "source": [
        "def reciproco(x):\n",
        "  return 1/x\n",
        "\n",
        "def inverso(x):\n",
        "  return -x\n",
        "\n",
        "a = 23\n",
        "b = reciproco(a)\n",
        "c = inverso(a)\n",
        "\n",
        "print(\"Resultados:\")\n",
        "print(f'a = {a}\\nb = {b}\\nc = {c}')"
      ]
    },
    {
      "attachments": {},
      "cell_type": "markdown",
      "metadata": {},
      "source": [
        "---\n",
        "\n",
        "## Funciones lambda\n",
        "\n",
        "En Python, también podmeos crear funciones anónimas utilizando la palabra clave `lambda`. Las funciones lambda son útiles cuando necesitas una función rápida para realizar una operación simple."
      ]
    },
    {
      "cell_type": "code",
      "execution_count": 35,
      "metadata": {
        "colab": {
          "base_uri": "https://localhost:8080/"
        },
        "id": "hX-W0FpKo2LU",
        "outputId": "a33e513b-b8f5-49b0-9d8c-768b2ba6d851"
      },
      "outputs": [
        {
          "name": "stdout",
          "output_type": "stream",
          "text": [
            "a: [0, 1, 2, 3, 4, 5, 6, 7, 8, 9]\n",
            "b: [9, 8, 7, 6, 5, 4, 3, 2, 1, 0]\n"
          ]
        }
      ],
      "source": [
        "reverse = lambda x:  x[:: -1]\n",
        "\n",
        "a = [x for x in range(10)]\n",
        "b = reverse(a)\n",
        "\n",
        "print(\"a:\", a)\n",
        "print(\"b:\", b)"
      ]
    }
  ],
  "metadata": {
    "colab": {
      "provenance": []
    },
    "kernelspec": {
      "display_name": "Python 3",
      "language": "python",
      "name": "python3"
    },
    "language_info": {
      "codemirror_mode": {
        "name": "ipython",
        "version": 3
      },
      "file_extension": ".py",
      "mimetype": "text/x-python",
      "name": "python",
      "nbconvert_exporter": "python",
      "pygments_lexer": "ipython3",
      "version": "3.8.10"
    }
  },
  "nbformat": 4,
  "nbformat_minor": 0
}
